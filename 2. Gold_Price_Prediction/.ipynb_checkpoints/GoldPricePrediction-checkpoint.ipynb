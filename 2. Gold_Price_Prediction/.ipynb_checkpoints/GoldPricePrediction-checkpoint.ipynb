{
 "cells": [
  {
   "cell_type": "code",
   "execution_count": 27,
   "id": "b9316c04",
   "metadata": {},
   "outputs": [],
   "source": [
    "import numpy as np                      # Arrays\n",
    "import pandas as pd                     # DataFrame(Structured Table)\n",
    "import matplotlib.pyplot as plt         # Plotting\n",
    "import seaborn as sns                   # Plotting\n",
    "from sklearn.model_selection import train_test_split\n",
    "from sklearn.ensemble import RandomForestRegressor\n",
    "from sklearn import metrics"
   ]
  },
  {
   "cell_type": "markdown",
   "id": "cb809ccf",
   "metadata": {},
   "source": [
    "Data Collection and Processing"
   ]
  },
  {
   "cell_type": "code",
   "execution_count": 28,
   "id": "26e16bec",
   "metadata": {},
   "outputs": [],
   "source": [
    "# loading the csv data to a Pandas DataFrame\n",
    "gold_data = pd.read_csv(\"gld_price_data.csv\")"
   ]
  },
  {
   "cell_type": "code",
   "execution_count": 29,
   "id": "41c18546",
   "metadata": {},
   "outputs": [
    {
     "data": {
      "text/html": [
       "<div>\n",
       "<style scoped>\n",
       "    .dataframe tbody tr th:only-of-type {\n",
       "        vertical-align: middle;\n",
       "    }\n",
       "\n",
       "    .dataframe tbody tr th {\n",
       "        vertical-align: top;\n",
       "    }\n",
       "\n",
       "    .dataframe thead th {\n",
       "        text-align: right;\n",
       "    }\n",
       "</style>\n",
       "<table border=\"1\" class=\"dataframe\">\n",
       "  <thead>\n",
       "    <tr style=\"text-align: right;\">\n",
       "      <th></th>\n",
       "      <th>Date</th>\n",
       "      <th>SPX</th>\n",
       "      <th>GLD</th>\n",
       "      <th>USO</th>\n",
       "      <th>SLV</th>\n",
       "      <th>EUR/USD</th>\n",
       "    </tr>\n",
       "  </thead>\n",
       "  <tbody>\n",
       "    <tr>\n",
       "      <th>0</th>\n",
       "      <td>1/2/2008</td>\n",
       "      <td>1447.160034</td>\n",
       "      <td>84.860001</td>\n",
       "      <td>78.470001</td>\n",
       "      <td>15.180</td>\n",
       "      <td>1.471692</td>\n",
       "    </tr>\n",
       "    <tr>\n",
       "      <th>1</th>\n",
       "      <td>1/3/2008</td>\n",
       "      <td>1447.160034</td>\n",
       "      <td>85.570000</td>\n",
       "      <td>78.370003</td>\n",
       "      <td>15.285</td>\n",
       "      <td>1.474491</td>\n",
       "    </tr>\n",
       "    <tr>\n",
       "      <th>2</th>\n",
       "      <td>1/4/2008</td>\n",
       "      <td>1411.630005</td>\n",
       "      <td>85.129997</td>\n",
       "      <td>77.309998</td>\n",
       "      <td>15.167</td>\n",
       "      <td>1.475492</td>\n",
       "    </tr>\n",
       "    <tr>\n",
       "      <th>3</th>\n",
       "      <td>1/7/2008</td>\n",
       "      <td>1416.180054</td>\n",
       "      <td>84.769997</td>\n",
       "      <td>75.500000</td>\n",
       "      <td>15.053</td>\n",
       "      <td>1.468299</td>\n",
       "    </tr>\n",
       "    <tr>\n",
       "      <th>4</th>\n",
       "      <td>1/8/2008</td>\n",
       "      <td>1390.189941</td>\n",
       "      <td>86.779999</td>\n",
       "      <td>76.059998</td>\n",
       "      <td>15.590</td>\n",
       "      <td>1.557099</td>\n",
       "    </tr>\n",
       "  </tbody>\n",
       "</table>\n",
       "</div>"
      ],
      "text/plain": [
       "       Date          SPX        GLD        USO     SLV   EUR/USD\n",
       "0  1/2/2008  1447.160034  84.860001  78.470001  15.180  1.471692\n",
       "1  1/3/2008  1447.160034  85.570000  78.370003  15.285  1.474491\n",
       "2  1/4/2008  1411.630005  85.129997  77.309998  15.167  1.475492\n",
       "3  1/7/2008  1416.180054  84.769997  75.500000  15.053  1.468299\n",
       "4  1/8/2008  1390.189941  86.779999  76.059998  15.590  1.557099"
      ]
     },
     "execution_count": 29,
     "metadata": {},
     "output_type": "execute_result"
    }
   ],
   "source": [
    "# Print first 5 rows\n",
    "gold_data.head()"
   ]
  },
  {
   "cell_type": "code",
   "execution_count": 30,
   "id": "a67eae45",
   "metadata": {},
   "outputs": [
    {
     "data": {
      "text/html": [
       "<div>\n",
       "<style scoped>\n",
       "    .dataframe tbody tr th:only-of-type {\n",
       "        vertical-align: middle;\n",
       "    }\n",
       "\n",
       "    .dataframe tbody tr th {\n",
       "        vertical-align: top;\n",
       "    }\n",
       "\n",
       "    .dataframe thead th {\n",
       "        text-align: right;\n",
       "    }\n",
       "</style>\n",
       "<table border=\"1\" class=\"dataframe\">\n",
       "  <thead>\n",
       "    <tr style=\"text-align: right;\">\n",
       "      <th></th>\n",
       "      <th>Date</th>\n",
       "      <th>SPX</th>\n",
       "      <th>GLD</th>\n",
       "      <th>USO</th>\n",
       "      <th>SLV</th>\n",
       "      <th>EUR/USD</th>\n",
       "    </tr>\n",
       "  </thead>\n",
       "  <tbody>\n",
       "    <tr>\n",
       "      <th>2285</th>\n",
       "      <td>5/8/2018</td>\n",
       "      <td>2671.919922</td>\n",
       "      <td>124.589996</td>\n",
       "      <td>14.0600</td>\n",
       "      <td>15.5100</td>\n",
       "      <td>1.186789</td>\n",
       "    </tr>\n",
       "    <tr>\n",
       "      <th>2286</th>\n",
       "      <td>5/9/2018</td>\n",
       "      <td>2697.790039</td>\n",
       "      <td>124.330002</td>\n",
       "      <td>14.3700</td>\n",
       "      <td>15.5300</td>\n",
       "      <td>1.184722</td>\n",
       "    </tr>\n",
       "    <tr>\n",
       "      <th>2287</th>\n",
       "      <td>5/10/2018</td>\n",
       "      <td>2723.070068</td>\n",
       "      <td>125.180000</td>\n",
       "      <td>14.4100</td>\n",
       "      <td>15.7400</td>\n",
       "      <td>1.191753</td>\n",
       "    </tr>\n",
       "    <tr>\n",
       "      <th>2288</th>\n",
       "      <td>5/14/2018</td>\n",
       "      <td>2730.129883</td>\n",
       "      <td>124.489998</td>\n",
       "      <td>14.3800</td>\n",
       "      <td>15.5600</td>\n",
       "      <td>1.193118</td>\n",
       "    </tr>\n",
       "    <tr>\n",
       "      <th>2289</th>\n",
       "      <td>5/16/2018</td>\n",
       "      <td>2725.780029</td>\n",
       "      <td>122.543800</td>\n",
       "      <td>14.4058</td>\n",
       "      <td>15.4542</td>\n",
       "      <td>1.182033</td>\n",
       "    </tr>\n",
       "  </tbody>\n",
       "</table>\n",
       "</div>"
      ],
      "text/plain": [
       "           Date          SPX         GLD      USO      SLV   EUR/USD\n",
       "2285   5/8/2018  2671.919922  124.589996  14.0600  15.5100  1.186789\n",
       "2286   5/9/2018  2697.790039  124.330002  14.3700  15.5300  1.184722\n",
       "2287  5/10/2018  2723.070068  125.180000  14.4100  15.7400  1.191753\n",
       "2288  5/14/2018  2730.129883  124.489998  14.3800  15.5600  1.193118\n",
       "2289  5/16/2018  2725.780029  122.543800  14.4058  15.4542  1.182033"
      ]
     },
     "execution_count": 30,
     "metadata": {},
     "output_type": "execute_result"
    }
   ],
   "source": [
    "# print last 5 rows\n",
    "gold_data.tail()"
   ]
  },
  {
   "cell_type": "code",
   "execution_count": 31,
   "id": "ac61ac5d",
   "metadata": {},
   "outputs": [
    {
     "data": {
      "text/plain": [
       "(2290, 6)"
      ]
     },
     "execution_count": 31,
     "metadata": {},
     "output_type": "execute_result"
    }
   ],
   "source": [
    "# no of rows and columns\n",
    "gold_data.shape"
   ]
  },
  {
   "cell_type": "code",
   "execution_count": 32,
   "id": "3249025e",
   "metadata": {},
   "outputs": [
    {
     "name": "stdout",
     "output_type": "stream",
     "text": [
      "<class 'pandas.core.frame.DataFrame'>\n",
      "RangeIndex: 2290 entries, 0 to 2289\n",
      "Data columns (total 6 columns):\n",
      " #   Column   Non-Null Count  Dtype  \n",
      "---  ------   --------------  -----  \n",
      " 0   Date     2290 non-null   object \n",
      " 1   SPX      2290 non-null   float64\n",
      " 2   GLD      2290 non-null   float64\n",
      " 3   USO      2290 non-null   float64\n",
      " 4   SLV      2290 non-null   float64\n",
      " 5   EUR/USD  2290 non-null   float64\n",
      "dtypes: float64(5), object(1)\n",
      "memory usage: 107.5+ KB\n"
     ]
    }
   ],
   "source": [
    "gold_data.info()"
   ]
  },
  {
   "cell_type": "code",
   "execution_count": 33,
   "id": "aff03774",
   "metadata": {},
   "outputs": [
    {
     "data": {
      "text/plain": [
       "Date       0\n",
       "SPX        0\n",
       "GLD        0\n",
       "USO        0\n",
       "SLV        0\n",
       "EUR/USD    0\n",
       "dtype: int64"
      ]
     },
     "execution_count": 33,
     "metadata": {},
     "output_type": "execute_result"
    }
   ],
   "source": [
    "# checking the number of missing values\n",
    "gold_data.isnull().sum()"
   ]
  },
  {
   "cell_type": "code",
   "execution_count": 34,
   "id": "2b62f51a",
   "metadata": {},
   "outputs": [
    {
     "data": {
      "text/html": [
       "<div>\n",
       "<style scoped>\n",
       "    .dataframe tbody tr th:only-of-type {\n",
       "        vertical-align: middle;\n",
       "    }\n",
       "\n",
       "    .dataframe tbody tr th {\n",
       "        vertical-align: top;\n",
       "    }\n",
       "\n",
       "    .dataframe thead th {\n",
       "        text-align: right;\n",
       "    }\n",
       "</style>\n",
       "<table border=\"1\" class=\"dataframe\">\n",
       "  <thead>\n",
       "    <tr style=\"text-align: right;\">\n",
       "      <th></th>\n",
       "      <th>SPX</th>\n",
       "      <th>GLD</th>\n",
       "      <th>USO</th>\n",
       "      <th>SLV</th>\n",
       "      <th>EUR/USD</th>\n",
       "    </tr>\n",
       "  </thead>\n",
       "  <tbody>\n",
       "    <tr>\n",
       "      <th>count</th>\n",
       "      <td>2290.000000</td>\n",
       "      <td>2290.000000</td>\n",
       "      <td>2290.000000</td>\n",
       "      <td>2290.000000</td>\n",
       "      <td>2290.000000</td>\n",
       "    </tr>\n",
       "    <tr>\n",
       "      <th>mean</th>\n",
       "      <td>1654.315776</td>\n",
       "      <td>122.732875</td>\n",
       "      <td>31.842221</td>\n",
       "      <td>20.084997</td>\n",
       "      <td>1.283653</td>\n",
       "    </tr>\n",
       "    <tr>\n",
       "      <th>std</th>\n",
       "      <td>519.111540</td>\n",
       "      <td>23.283346</td>\n",
       "      <td>19.523517</td>\n",
       "      <td>7.092566</td>\n",
       "      <td>0.131547</td>\n",
       "    </tr>\n",
       "    <tr>\n",
       "      <th>min</th>\n",
       "      <td>676.530029</td>\n",
       "      <td>70.000000</td>\n",
       "      <td>7.960000</td>\n",
       "      <td>8.850000</td>\n",
       "      <td>1.039047</td>\n",
       "    </tr>\n",
       "    <tr>\n",
       "      <th>25%</th>\n",
       "      <td>1239.874969</td>\n",
       "      <td>109.725000</td>\n",
       "      <td>14.380000</td>\n",
       "      <td>15.570000</td>\n",
       "      <td>1.171313</td>\n",
       "    </tr>\n",
       "    <tr>\n",
       "      <th>50%</th>\n",
       "      <td>1551.434998</td>\n",
       "      <td>120.580002</td>\n",
       "      <td>33.869999</td>\n",
       "      <td>17.268500</td>\n",
       "      <td>1.303297</td>\n",
       "    </tr>\n",
       "    <tr>\n",
       "      <th>75%</th>\n",
       "      <td>2073.010070</td>\n",
       "      <td>132.840004</td>\n",
       "      <td>37.827501</td>\n",
       "      <td>22.882500</td>\n",
       "      <td>1.369971</td>\n",
       "    </tr>\n",
       "    <tr>\n",
       "      <th>max</th>\n",
       "      <td>2872.870117</td>\n",
       "      <td>184.589996</td>\n",
       "      <td>117.480003</td>\n",
       "      <td>47.259998</td>\n",
       "      <td>1.598798</td>\n",
       "    </tr>\n",
       "  </tbody>\n",
       "</table>\n",
       "</div>"
      ],
      "text/plain": [
       "               SPX          GLD          USO          SLV      EUR/USD\n",
       "count  2290.000000  2290.000000  2290.000000  2290.000000  2290.000000\n",
       "mean   1654.315776   122.732875    31.842221    20.084997     1.283653\n",
       "std     519.111540    23.283346    19.523517     7.092566     0.131547\n",
       "min     676.530029    70.000000     7.960000     8.850000     1.039047\n",
       "25%    1239.874969   109.725000    14.380000    15.570000     1.171313\n",
       "50%    1551.434998   120.580002    33.869999    17.268500     1.303297\n",
       "75%    2073.010070   132.840004    37.827501    22.882500     1.369971\n",
       "max    2872.870117   184.589996   117.480003    47.259998     1.598798"
      ]
     },
     "execution_count": 34,
     "metadata": {},
     "output_type": "execute_result"
    }
   ],
   "source": [
    "# getting the statistical measures of the data\n",
    "gold_data.describe()"
   ]
  },
  {
   "cell_type": "markdown",
   "id": "a586c813",
   "metadata": {},
   "source": [
    "Correlation:\n",
    "1. Positive Correlation\n",
    "2. Negative Correlation"
   ]
  },
  {
   "cell_type": "code",
   "execution_count": 35,
   "id": "789536b3",
   "metadata": {},
   "outputs": [],
   "source": [
    "correlation = gold_data.corr()"
   ]
  },
  {
   "cell_type": "code",
   "execution_count": 36,
   "id": "b7a89b4c",
   "metadata": {},
   "outputs": [
    {
     "data": {
      "text/plain": [
       "<AxesSubplot:>"
      ]
     },
     "execution_count": 36,
     "metadata": {},
     "output_type": "execute_result"
    },
    {
     "data": {
      "image/png": "[encoded data removed]",
      "text/plain": [
       "<Figure size 576x576 with 2 Axes>"
      ]
     },
     "metadata": {
      "needs_background": "light"
     },
     "output_type": "display_data"
    }
   ],
   "source": [
    "# Constructing a heatmap to understand the correlation\n",
    "plt.figure(figsize = (8,8))\n",
    "sns.heatmap(correlation, cbar = True, square = True, fmt = \".1f\", annot = True, annot_kws = {\"size\":8}, cmap = \"Blues\" )"
   ]
  },
  {
   "cell_type": "code",
   "execution_count": 37,
   "id": "faf25188",
   "metadata": {},
   "outputs": [
    {
     "name": "stdout",
     "output_type": "stream",
     "text": [
      "SPX        0.049345\n",
      "GLD        1.000000\n",
      "USO       -0.186360\n",
      "SLV        0.866632\n",
      "EUR/USD   -0.024375\n",
      "Name: GLD, dtype: float64\n"
     ]
    }
   ],
   "source": [
    "# correlation values of GLD\n",
    "print(correlation[\"GLD\"])"
   ]
  },
  {
   "cell_type": "code",
   "execution_count": 38,
   "id": "1b464c5b",
   "metadata": {},
   "outputs": [
    {
     "name": "stderr",
     "output_type": "stream",
     "text": [
      "C:\\Users\\LENOVO\\anaconda3\\lib\\site-packages\\seaborn\\distributions.py:2619: FutureWarning: `distplot` is a deprecated function and will be removed in a future version. Please adapt your code to use either `displot` (a figure-level function with similar flexibility) or `histplot` (an axes-level function for histograms).\n",
      "  warnings.warn(msg, FutureWarning)\n"
     ]
    },
    {
     "data": {
      "text/plain": [
       "<AxesSubplot:xlabel='GLD', ylabel='Density'>"
      ]
     },
     "execution_count": 38,
     "metadata": {},
     "output_type": "execute_result"
    },
    {
     "data": {
      "image/png": "[encoded data removed]",
      "text/plain": [
       "<Figure size 432x288 with 1 Axes>"
      ]
     },
     "metadata": {
      "needs_background": "light"
     },
     "output_type": "display_data"
    }
   ],
   "source": [
    "# distribution of the GLD Price\n",
    "sns.distplot(gold_data[\"GLD\"], color = \"green\" )"
   ]
  },
  {
   "cell_type": "markdown",
   "id": "233ca821",
   "metadata": {},
   "source": [
    "Splitting the Features and Target"
   ]
  },
  {
   "cell_type": "code",
   "execution_count": 39,
   "id": "796036d0",
   "metadata": {},
   "outputs": [],
   "source": [
    "x = gold_data.drop([\"Date\",\"GLD\"],axis = 1)       #axis=1(drop column),axis=0(drop row)\n",
    "y = gold_data[\"GLD\"]"
   ]
  },
  {
   "cell_type": "code",
   "execution_count": 40,
   "id": "b51f7a31",
   "metadata": {},
   "outputs": [
    {
     "name": "stdout",
     "output_type": "stream",
     "text": [
      "              SPX        USO      SLV   EUR/USD\n",
      "0     1447.160034  78.470001  15.1800  1.471692\n",
      "1     1447.160034  78.370003  15.2850  1.474491\n",
      "2     1411.630005  77.309998  15.1670  1.475492\n",
      "3     1416.180054  75.500000  15.0530  1.468299\n",
      "4     1390.189941  76.059998  15.5900  1.557099\n",
      "...           ...        ...      ...       ...\n",
      "2285  2671.919922  14.060000  15.5100  1.186789\n",
      "2286  2697.790039  14.370000  15.5300  1.184722\n",
      "2287  2723.070068  14.410000  15.7400  1.191753\n",
      "2288  2730.129883  14.380000  15.5600  1.193118\n",
      "2289  2725.780029  14.405800  15.4542  1.182033\n",
      "\n",
      "[2290 rows x 4 columns]\n"
     ]
    }
   ],
   "source": [
    "print(x)"
   ]
  },
  {
   "cell_type": "code",
   "execution_count": 41,
   "id": "049f5fbb",
   "metadata": {
    "scrolled": true
   },
   "outputs": [
    {
     "name": "stdout",
     "output_type": "stream",
     "text": [
      "0        84.860001\n",
      "1        85.570000\n",
      "2        85.129997\n",
      "3        84.769997\n",
      "4        86.779999\n",
      "           ...    \n",
      "2285    124.589996\n",
      "2286    124.330002\n",
      "2287    125.180000\n",
      "2288    124.489998\n",
      "2289    122.543800\n",
      "Name: GLD, Length: 2290, dtype: float64\n"
     ]
    }
   ],
   "source": [
    "print(y)"
   ]
  },
  {
   "cell_type": "markdown",
   "id": "4a7dab40",
   "metadata": {},
   "source": [
    "Splitting into Training Data and Test Data"
   ]
  },
  {
   "cell_type": "code",
   "execution_count": 42,
   "id": "4a532c05",
   "metadata": {},
   "outputs": [],
   "source": [
    "x_train, x_test, y_train, y_test = train_test_split(x, y, test_size = 0.2, random_state = 2)"
   ]
  },
  {
   "cell_type": "markdown",
   "id": "59f8a5d3",
   "metadata": {},
   "source": [
    "Model Training - \n",
    "Random Forest Regressor"
   ]
  },
  {
   "cell_type": "code",
   "execution_count": 43,
   "id": "5d201264",
   "metadata": {},
   "outputs": [],
   "source": [
    "regressor = RandomForestRegressor(n_estimators = 100)"
   ]
  },
  {
   "cell_type": "code",
   "execution_count": 44,
   "id": "81d940fe",
   "metadata": {},
   "outputs": [
    {
     "data": {
      "text/plain": [
       "RandomForestRegressor()"
      ]
     },
     "execution_count": 44,
     "metadata": {},
     "output_type": "execute_result"
    }
   ],
   "source": [
    "# Training the model\n",
    "regressor.fit(x_train, y_train)"
   ]
  },
  {
   "cell_type": "markdown",
   "id": "5937184f",
   "metadata": {},
   "source": [
    "Model Evaluation"
   ]
  },
  {
   "cell_type": "code",
   "execution_count": 45,
   "id": "de4cd1c3",
   "metadata": {},
   "outputs": [],
   "source": [
    "# prediction on Test Data\n",
    "test_data_prediction = regressor.predict(x_test)"
   ]
  },
  {
   "cell_type": "code",
   "execution_count": 46,
   "id": "5c434372",
   "metadata": {},
   "outputs": [
    {
     "name": "stdout",
     "output_type": "stream",
     "text": [
      "[168.76059993  82.0640997  116.17310021 127.71080072 120.70340154\n",
      " 154.9858972  150.45699945 126.18090013 117.47579889 126.11980072\n",
      " 116.84540068 172.05500074 141.78259831 167.92269835 115.16589966\n",
      " 117.77480027 139.50970277 169.99640055 160.03810227 161.8414008\n",
      " 155.14720012 125.00750013 175.93179956 157.17020401 125.23410021\n",
      "  93.61259983  77.65640012 120.60040001 119.07279942 167.44780012\n",
      "  88.17840059 125.32960006  90.86210078 117.70400026 121.18229924\n",
      " 136.47940086 115.55170111 115.6731008  147.99279967 107.31470107\n",
      " 104.39070249  87.15679765 126.54120072 118.09900008 154.48129883\n",
      " 119.55889994 108.57650013 108.21699802  93.18900036 127.08219801\n",
      "  75.53419994 113.60919892 121.41049977 111.40419902 118.88419903\n",
      " 120.50819929 158.81030038 165.60640165 146.9779968   85.7666984\n",
      "  94.30090023  86.89129911  90.50050048 119.08220081 126.44140077\n",
      " 127.47589968 169.65939958 122.28179949 117.50089887  98.48450054\n",
      " 167.4908014  143.5639989  131.47840264 121.1331022  121.34519925\n",
      " 119.72040055 114.66180171 118.36130079 107.1201011  128.02020132\n",
      " 114.00999973 107.37850018 117.09010024 119.67499927  88.94600066\n",
      "  88.23149864 145.82580231 127.1918     113.40600038 110.10369833\n",
      " 108.12969919  76.95379891 170.02500182 114.14389917 121.55839913\n",
      " 127.92480213 155.05389833  91.73079918 137.24570115 158.6943034\n",
      " 124.89950063 125.44580032 130.54040207 114.89000161 119.65749955\n",
      "  92.11829962 110.50449868 168.68439942 156.9056998  114.28739949\n",
      " 106.69330096  79.55709985 113.24120058 125.86820061 107.12679908\n",
      " 119.49550086 155.86340348 158.68719933 119.97769997 133.45720286\n",
      " 101.56739951 117.60469784 119.01870009 113.10160091 102.75479909\n",
      " 160.14139791  98.99850057 147.91449956 125.57070115 170.17849919\n",
      " 125.38699933 127.32799762 127.69350225 113.84519914 113.01520096\n",
      " 123.58579902 102.16129895  89.45319981 124.71919958 101.58899949\n",
      " 107.18659913 113.51580059 117.34800073  98.91399939 121.98180003\n",
      " 163.52559869  87.32509858 106.86229991 117.27990124 127.80180113\n",
      " 124.10450056  80.97099912 120.14460062 157.86259862  87.97109948\n",
      " 110.10459983 118.85249915 172.69759877 102.97369907 105.21280046\n",
      " 122.42410014 158.17679791  87.48469838  93.0381005  112.92940039\n",
      " 177.19620001 114.3669996  119.02649995  94.63290077 125.53569997\n",
      " 166.23130091 114.99750083 116.78180156  88.32949872 148.28260005\n",
      " 120.35089961  89.66089991 112.23859989 117.04460045 118.79540116\n",
      "  87.93089933  94.24819984 117.15240014 118.51660182 120.30710006\n",
      " 126.6837986  121.98179961 150.31709992 165.67380081 118.50189982\n",
      " 120.37440135 150.9153001  118.53129916 172.9208988  105.90569962\n",
      " 104.90060107 148.5452     113.82730091 125.03060075 147.27719984\n",
      " 119.60570105 115.21190043 112.3258998  113.59360197 143.93850138\n",
      " 117.72369776 102.92220073 115.81310082 103.79830199  98.59580047\n",
      " 117.28610085  90.76299983  91.71800027 153.4903988  102.72379965\n",
      " 154.20810102 114.46840154 138.21440063  90.12279836 115.45919955\n",
      " 114.7689992  123.18140024 121.70980045 165.37840176  92.91439953\n",
      " 135.49990188 121.34529924 120.89930047 104.65390025 141.22440297\n",
      " 121.62079909 116.69260048 113.35250089 126.79989822 122.56189958\n",
      " 125.83599922 121.22260037  86.80309905 132.58530198 145.01490206\n",
      "  92.63239959 157.25419974 157.95130181 126.25459886 164.14549987\n",
      " 108.98159967 110.10250091 103.68949812  94.30600046 127.72260296\n",
      " 107.21620086 159.88260043 121.9022     131.98769917 130.56190201\n",
      " 160.86069928  90.26009824 175.68080224 127.1872004  126.7503987\n",
      "  86.43349935 124.28679928 150.32599737  89.72799996 107.08029979\n",
      " 108.99739986  84.08589877 136.3349995  155.34830308 140.35350345\n",
      "  73.57290041 151.71630145 125.95139949 126.8298002  127.5044991\n",
      " 108.47309946 156.30260075 114.69010123 117.03930161 124.96469942\n",
      " 154.04300161 121.40919979 156.27529952  92.94900059 125.53450141\n",
      " 125.70020047  87.84450044  92.17499924 126.42539869 128.23320358\n",
      " 113.24160063 117.68259749 121.10169964 126.92919828 119.89540128\n",
      " 136.14850037  93.81989954 119.62910055 113.21280108  94.22429939\n",
      " 108.80040002  87.01699908 108.82229963  89.56229947  92.44710022\n",
      " 131.81670364 162.14949976  89.3193     119.65000088 133.38450166\n",
      " 124.00770071 128.5961023  101.93779851  88.96189873 131.7500008\n",
      " 120.3208004  108.82530003 168.86390125 115.16140026  86.59919888\n",
      " 118.66460065  91.10149965 162.1340005  116.47820064 121.57219987\n",
      " 160.17079787 120.16409929 112.57829969 108.46059881 126.88060042\n",
      "  76.01610003 103.08739999 127.76810263 121.68859941  92.6566001\n",
      " 131.9514011  118.25200112 115.89369975 154.18510277 159.04300114\n",
      " 110.01629962 154.92099821 119.15680064 160.16340077 118.41290026\n",
      " 156.6055007  115.14309931 116.61880033 149.95779913 114.75350062\n",
      " 125.51649904 166.30699921 117.75789989 125.16659933 153.11200348\n",
      " 153.56490214 131.97850059 114.50910027 121.19100217 124.76540061\n",
      "  89.72890054 122.87340032 154.79500125 111.76440049 106.81140008\n",
      " 161.92170126 118.47869989 165.80070035 134.15600102 115.09780001\n",
      " 152.84959815 168.60709976 114.35930021 113.91410125 158.01529866\n",
      "  85.47089865 127.17190087 127.98330024 128.91730018 124.30900099\n",
      " 124.08540096  90.62900077 153.31999954  97.13699985 136.67579958\n",
      "  89.1606992  107.40660023 115.00000052 112.79610086 124.41669928\n",
      "  91.34179904 125.46040116 162.34589888 119.8853988  165.20030047\n",
      " 126.67959837 112.27730028 127.7162994   95.0258988   90.87640028\n",
      " 103.2198992  120.92109967  83.26019964 126.33449999 161.19440517\n",
      " 117.14380077 118.13550003 120.17319967 122.49749967 120.08570154\n",
      " 121.41060001 118.27650076 107.01769999 147.82389932 125.9754987\n",
      " 115.62030097  74.34109969 127.84580079 153.66160117 121.7329995\n",
      " 125.5190005   88.80199994 102.92189855 124.6590004  120.28420043\n",
      "  73.37900076 151.12630033 121.28419994 104.78760004  86.11269773\n",
      " 115.1099996  172.21559832 119.76110046 159.09319824 113.14509954\n",
      " 121.1702004  118.67070102  96.01549988 118.74919954 125.71390046\n",
      " 118.50929952  96.00370046 153.93770163 122.09430025 147.42820028\n",
      " 159.45810126 114.10160009 122.58699919 149.08089777 127.21200042\n",
      " 165.93880054 135.70530001 120.00989979 167.83439845 108.42269932\n",
      " 121.75269881 140.09470174 106.45739904]\n"
     ]
    }
   ],
   "source": [
    "print(test_data_prediction)"
   ]
  },
  {
   "cell_type": "code",
   "execution_count": 48,
   "id": "9808f14c",
   "metadata": {},
   "outputs": [
    {
     "name": "stdout",
     "output_type": "stream",
     "text": [
      "R squared error :  0.9894673145495491\n"
     ]
    }
   ],
   "source": [
    "# R squared Error\n",
    "error_score = metrics.r2_score(y_test, test_data_prediction)\n",
    "print(\"R squared error : \", error_score)"
   ]
  },
  {
   "cell_type": "markdown",
   "id": "18d83431",
   "metadata": {},
   "source": [
    "Compare the actual value and Predicted value in a plot"
   ]
  },
  {
   "cell_type": "code",
   "execution_count": 49,
   "id": "58e8c540",
   "metadata": {},
   "outputs": [],
   "source": [
    "y_test = list(y_test)"
   ]
  },
  {
   "cell_type": "code",
   "execution_count": 50,
   "id": "f2b21b7a",
   "metadata": {},
   "outputs": [
    {
     "data": {
      "image/png": "[encoded data removed]",
      "text/plain": [
       "<Figure size 432x288 with 1 Axes>"
      ]
     },
     "metadata": {
      "needs_background": "light"
     },
     "output_type": "display_data"
    }
   ],
   "source": [
    "plt.plot(y_test, color = \"blue\", label = \"Actual Value\")\n",
    "plt.plot(test_data_prediction, color = \"green\", label = \"Predicted Value\")\n",
    "plt.title(\"Actual Price vs Predicted Price\")\n",
    "plt.xlabel(\"No. of values\")\n",
    "plt.ylabel(\"GLD Price\")\n",
    "plt.legend()\n",
    "plt.show()"
   ]
  },
  {
   "cell_type": "code",
   "execution_count": null,
   "id": "69c75ebf",
   "metadata": {},
   "outputs": [],
   "source": []
  }
 ],
 "metadata": {
  "kernelspec": {
   "display_name": "Python 3 (ipykernel)",
   "language": "python",
   "name": "python3"
  },
  "language_info": {
   "codemirror_mode": {
    "name": "ipython",
    "version": 3
   },
   "file_extension": ".py",
   "mimetype": "text/x-python",
   "name": "python",
   "nbconvert_exporter": "python",
   "pygments_lexer": "ipython3",
   "version": "3.9.7"
  }
 },
 "nbformat": 4,
 "nbformat_minor": 5
}
