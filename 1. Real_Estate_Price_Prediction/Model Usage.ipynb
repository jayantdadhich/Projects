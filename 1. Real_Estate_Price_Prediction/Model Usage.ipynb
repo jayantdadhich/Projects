{
 "cells": [
  {
   "cell_type": "code",
   "execution_count": 3,
   "id": "35d89e6e",
   "metadata": {},
   "outputs": [],
   "source": [
    "from joblib import dump, load\n",
    "import numpy as np\n",
    "model = load(\"HP.joblib\")"
   ]
  },
  {
   "cell_type": "code",
   "execution_count": 24,
   "id": "624d24ab",
   "metadata": {},
   "outputs": [],
   "source": [
    "input = np.array([[-0.43942006,  7.12628155, -7.12165014, -0.27288841, -1.42262747,\n",
    "       -100.24141041, -100.31238772,  2.61111401, -1.0016859 , -0.5778192 ,\n",
    "       -0.97491834,  100.41164221, -0.86091034, -0.06501087, -0.50635717]])"
   ]
  },
  {
   "cell_type": "code",
   "execution_count": 25,
   "id": "8e94f71b",
   "metadata": {},
   "outputs": [
    {
     "data": {
      "text/plain": [
       "array([21.936])"
      ]
     },
     "execution_count": 25,
     "metadata": {},
     "output_type": "execute_result"
    }
   ],
   "source": [
    "model.predict(input)"
   ]
  },
  {
   "cell_type": "code",
   "execution_count": null,
   "id": "bf642758",
   "metadata": {},
   "outputs": [],
   "source": []
  }
 ],
 "metadata": {
  "kernelspec": {
   "display_name": "Python 3 (ipykernel)",
   "language": "python",
   "name": "python3"
  },
  "language_info": {
   "codemirror_mode": {
    "name": "ipython",
    "version": 3
   },
   "file_extension": ".py",
   "mimetype": "text/x-python",
   "name": "python",
   "nbconvert_exporter": "python",
   "pygments_lexer": "ipython3",
   "version": "3.9.7"
  }
 },
 "nbformat": 4,
 "nbformat_minor": 5
}
